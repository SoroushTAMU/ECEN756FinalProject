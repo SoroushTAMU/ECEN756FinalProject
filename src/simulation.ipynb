{
 "cells": [
  {
   "cell_type": "code",
   "execution_count": 3,
   "metadata": {},
   "outputs": [],
   "source": [
    "from voting_fns import plurality, iterative_plurality, RCR_iterative_plurality\n",
    "import random\n",
    "import matplotlib.pyplot as plt\n",
    "import numpy as np"
   ]
  },
  {
   "cell_type": "markdown",
   "metadata": {},
   "source": [
    "Iterative Plurality vs Randomized Candidate Removal Iterative Plurality"
   ]
  },
  {
   "cell_type": "code",
   "execution_count": 4,
   "metadata": {},
   "outputs": [
    {
     "name": "stdout",
     "output_type": "stream",
     "text": [
      "(10, 3)\n",
      "Simulation #  0\n",
      "Simulation #  25\n",
      "Simulation #  50\n",
      "Simulation #  75\n",
      "(10, 5)\n",
      "Simulation #  0\n",
      "Simulation #  25\n",
      "Simulation #  50\n",
      "Simulation #  75\n",
      "(10, 7)\n",
      "Simulation #  0\n",
      "Simulation #  25\n",
      "Simulation #  50\n",
      "Simulation #  75\n",
      "(10, 10)\n",
      "Simulation #  0\n",
      "Simulation #  25\n",
      "Simulation #  50\n",
      "Simulation #  75\n",
      "(20, 5)\n",
      "Simulation #  0\n",
      "Simulation #  25\n",
      "Simulation #  50\n",
      "Simulation #  75\n",
      "(20, 10)\n",
      "Simulation #  0\n",
      "Simulation #  25\n",
      "Simulation #  50\n",
      "Simulation #  75\n",
      "(20, 15)\n",
      "Simulation #  0\n",
      "Simulation #  25\n",
      "Simulation #  50\n",
      "Simulation #  75\n",
      "(20, 20)\n",
      "Simulation #  0\n",
      "Simulation #  25\n",
      "Simulation #  50\n",
      "Simulation #  75\n",
      "(50, 10)\n",
      "Simulation #  0\n",
      "Simulation #  25\n",
      "Simulation #  50\n",
      "Simulation #  75\n",
      "(50, 20)\n",
      "Simulation #  0\n",
      "Simulation #  25\n",
      "Simulation #  50\n",
      "Simulation #  75\n",
      "(50, 30)\n",
      "Simulation #  0\n",
      "Simulation #  25\n",
      "Simulation #  50\n",
      "Simulation #  75\n",
      "(50, 40)\n",
      "Simulation #  0\n",
      "Simulation #  25\n",
      "Simulation #  50\n",
      "Simulation #  75\n",
      "(50, 50)\n",
      "Simulation #  0\n",
      "Simulation #  25\n",
      "Simulation #  50\n",
      "Simulation #  75\n"
     ]
    }
   ],
   "source": [
    "num_voters = [10, 20, 50]\n",
    "num_candidates = {10:[3,5,7,10],\n",
    "                  20:[5,10,15,20],\n",
    "                  50:[10,20,30,40,50],\n",
    "                  100:[10,25,50,75,90,100],\n",
    "                  200:[25,50,100,150,175,200]}\n",
    "\n",
    "num_simulations = 100\n",
    "\n",
    "plurality_results = []\n",
    "RCR_results = []\n",
    "\n",
    "same_result = []\n",
    "\n",
    "for n in num_voters:\n",
    "    for m in num_candidates[n]:\n",
    "        if m > n:\n",
    "            continue\n",
    "\n",
    "        print((n,m))\n",
    "\n",
    "        max_iter_p = 0\n",
    "        sum_iter_p = 0\n",
    "\n",
    "        max_iter_rcr = 0\n",
    "        sum_iter_rcr = 0\n",
    "\n",
    "        same = 0\n",
    "        for i in range(num_simulations):\n",
    "            if i%25 == 0:\n",
    "                print(\"Simulation # \", i)\n",
    "\n",
    "            \n",
    "            L = []\n",
    "            for voter in range(n):\n",
    "                preference_profile = [*range(m)]\n",
    "                random.shuffle(preference_profile)\n",
    "                L.append(preference_profile)\n",
    "            \n",
    "            initial_state = [random.randint(0,m-1) for preference_profile in L]\n",
    "\n",
    "            _, _, tc_p, num_iter_p = iterative_plurality(L, m, from_truth=False, initial_state=initial_state.copy())\n",
    "            _, _, tc_rcr, num_iter_rcr = RCR_iterative_plurality(L, m, from_truth=False, initial_state=initial_state)\n",
    "\n",
    "            if tc_p == tc_rcr:\n",
    "                same += 1\n",
    "\n",
    "\n",
    "            sum_iter_p += num_iter_p\n",
    "            sum_iter_rcr += num_iter_rcr\n",
    "\n",
    "            if num_iter_p > max_iter_p:\n",
    "                max_iter_p = num_iter_p\n",
    "\n",
    "            if num_iter_rcr > max_iter_rcr:\n",
    "                max_iter_rcr = num_iter_rcr\n",
    "        \n",
    "        plurality_results.append([n, m, sum_iter_p/num_simulations, max_iter_p])\n",
    "        RCR_results.append([n, m, sum_iter_rcr/num_simulations, max_iter_rcr])\n",
    "\n",
    "        same_result.append([n, m, same/num_simulations])\n",
    "\n"
   ]
  },
  {
   "cell_type": "code",
   "execution_count": 5,
   "metadata": {},
   "outputs": [
    {
     "data": {
      "text/plain": [
       "array([[ 10. ,   3. ,  23.2,  60. ],\n",
       "       [ 10. ,   5. ,  26.7,  60. ],\n",
       "       [ 10. ,   7. ,  27.6,  60. ],\n",
       "       [ 10. ,  10. ,  30.6,  60. ],\n",
       "       [ 20. ,   5. ,  65.4, 140. ],\n",
       "       [ 20. ,  10. ,  66.8, 160. ],\n",
       "       [ 20. ,  15. ,  77.2, 180. ],\n",
       "       [ 20. ,  20. ,  72.6, 140. ],\n",
       "       [ 50. ,  10. , 216.5, 550. ],\n",
       "       [ 50. ,  20. , 245. , 550. ],\n",
       "       [ 50. ,  30. , 237. , 600. ],\n",
       "       [ 50. ,  40. , 247.5, 600. ],\n",
       "       [ 50. ,  50. , 251. , 650. ]])"
      ]
     },
     "execution_count": 5,
     "metadata": {},
     "output_type": "execute_result"
    }
   ],
   "source": [
    "print(plurality_results)\n",
    "plurality_results = np.asarray(plurality_results)"
   ]
  },
  {
   "cell_type": "code",
   "execution_count": 6,
   "metadata": {},
   "outputs": [
    {
     "data": {
      "text/plain": [
       "array([[ 10. ,   3. ,  15.9,  20. ],\n",
       "       [ 10. ,   5. ,  27. ,  40. ],\n",
       "       [ 10. ,   7. ,  27.8,  60. ],\n",
       "       [ 10. ,  10. ,  30.6,  60. ],\n",
       "       [ 20. ,   5. ,  60.6,  80. ],\n",
       "       [ 20. ,  10. ,  67.8, 180. ],\n",
       "       [ 20. ,  15. ,  77.2, 180. ],\n",
       "       [ 20. ,  20. ,  72.6, 140. ],\n",
       "       [ 50. ,  10. , 237.5, 450. ],\n",
       "       [ 50. ,  20. , 245. , 550. ],\n",
       "       [ 50. ,  30. , 237. , 600. ],\n",
       "       [ 50. ,  40. , 247.5, 600. ],\n",
       "       [ 50. ,  50. , 251. , 650. ]])"
      ]
     },
     "execution_count": 6,
     "metadata": {},
     "output_type": "execute_result"
    }
   ],
   "source": [
    "print(RCR_results)\n",
    "RCR_results = np.asarray(RCR_results)"
   ]
  },
  {
   "cell_type": "code",
   "execution_count": 7,
   "metadata": {},
   "outputs": [
    {
     "data": {
      "text/plain": [
       "array([[10.  ,  3.  ,  0.85],\n",
       "       [10.  ,  5.  ,  0.77],\n",
       "       [10.  ,  7.  ,  0.95],\n",
       "       [10.  , 10.  ,  1.  ],\n",
       "       [20.  ,  5.  ,  0.61],\n",
       "       [20.  , 10.  ,  0.91],\n",
       "       [20.  , 15.  ,  1.  ],\n",
       "       [20.  , 20.  ,  1.  ],\n",
       "       [50.  , 10.  ,  0.58],\n",
       "       [50.  , 20.  ,  0.99],\n",
       "       [50.  , 30.  ,  1.  ],\n",
       "       [50.  , 40.  ,  1.  ],\n",
       "       [50.  , 50.  ,  1.  ]])"
      ]
     },
     "execution_count": 7,
     "metadata": {},
     "output_type": "execute_result"
    }
   ],
   "source": [
    "print(same_result)\n",
    "same_result = np.asarray(same_result)"
   ]
  },
  {
   "cell_type": "code",
   "execution_count": null,
   "metadata": {},
   "outputs": [],
   "source": []
  }
 ],
 "metadata": {
  "kernelspec": {
   "display_name": "Python 3.10.8 ('GT')",
   "language": "python",
   "name": "python3"
  },
  "language_info": {
   "codemirror_mode": {
    "name": "ipython",
    "version": 3
   },
   "file_extension": ".py",
   "mimetype": "text/x-python",
   "name": "python",
   "nbconvert_exporter": "python",
   "pygments_lexer": "ipython3",
   "version": "3.10.8"
  },
  "orig_nbformat": 4,
  "vscode": {
   "interpreter": {
    "hash": "2e423354a16b7f523d0bedeb8424a09533944e2c23623d83a59a9f96397970d2"
   }
  }
 },
 "nbformat": 4,
 "nbformat_minor": 2
}
