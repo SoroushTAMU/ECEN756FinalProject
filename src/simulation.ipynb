{
 "cells": [
  {
   "cell_type": "code",
   "execution_count": 1,
   "metadata": {},
   "outputs": [],
   "source": [
    "from voting_fns import plurality, iterative_plurality, RCR_iterative_plurality\n",
    "import random\n",
    "import matplotlib.pyplot as plt"
   ]
  },
  {
   "cell_type": "code",
   "execution_count": null,
   "metadata": {},
   "outputs": [],
   "source": [
    "L = [[0,1], [1,0], [1,0], [1,0], [0,1], [0,1]]\n",
    "m=2\n",
    "\n",
    "plurality(L, m)"
   ]
  },
  {
   "cell_type": "code",
   "execution_count": null,
   "metadata": {},
   "outputs": [],
   "source": [
    "iterative_plurality(L, m, from_truth=False)"
   ]
  },
  {
   "cell_type": "code",
   "execution_count": null,
   "metadata": {},
   "outputs": [],
   "source": [
    "num_voters = 100\n",
    "num_candidates = 10\n",
    "\n",
    "L = []\n",
    "for voter in range(num_voters):\n",
    "    preference_profile = [*range(num_candidates)]\n",
    "    random.shuffle(preference_profile)\n",
    "    L.append(preference_profile)\n",
    "\n",
    "max_iterations = 0\n",
    "for i in range(1000):\n",
    "    _, _, _, num_iterations = iterative_plurality(L, num_candidates, from_truth=False)\n",
    "    if num_iterations > max_iterations:\n",
    "        max_iterations = num_iterations\n",
    "\n",
    "max_iterations"
   ]
  },
  {
   "cell_type": "markdown",
   "metadata": {},
   "source": [
    "Iterative Plurality"
   ]
  },
  {
   "cell_type": "code",
   "execution_count": null,
   "metadata": {},
   "outputs": [],
   "source": [
    "num_voters = [10, 50, 100, 200]\n",
    "num_candidates = [2, 3, 5, 10, 20, 50, 100]\n",
    "num_simulations = 100\n",
    "\n",
    "results = []\n",
    "\n",
    "for n in num_voters:\n",
    "    for m in num_candidates:\n",
    "        if m >= n:\n",
    "            continue\n",
    "\n",
    "        print((n,m))\n",
    "\n",
    "        L = []\n",
    "        for voter in range(n):\n",
    "            preference_profile = [*range(n)]\n",
    "            random.shuffle(preference_profile)\n",
    "            L.append(preference_profile)\n",
    "\n",
    "        max_iterations = 0\n",
    "        sum_iterations = 0\n",
    "        for i in range(num_simulations):\n",
    "            if i%25 == 0:\n",
    "                print(\"Simulation # \", i)\n",
    "            _, _, _, num_iterations = iterative_plurality(L, m, from_truth=False)\n",
    "            sum_iterations += num_iterations\n",
    "            if num_iterations > max_iterations:\n",
    "                max_iterations = num_iterations\n",
    "        \n",
    "        results.append((n, m, sum_iterations/num_simulations, max_iterations))\n",
    "\n",
    "\n"
   ]
  },
  {
   "cell_type": "code",
   "execution_count": null,
   "metadata": {},
   "outputs": [],
   "source": [
    "results"
   ]
  },
  {
   "cell_type": "markdown",
   "metadata": {},
   "source": [
    "Iterative Plurality vs Randomized Candidate Removal Iterative Plurality"
   ]
  },
  {
   "cell_type": "code",
   "execution_count": 2,
   "metadata": {},
   "outputs": [
    {
     "name": "stdout",
     "output_type": "stream",
     "text": [
      "(10, 2)\n",
      "Simulation #  0\n",
      "(10, 3)\n",
      "Simulation #  0\n",
      "(10, 5)\n",
      "Simulation #  0\n",
      "(20, 2)\n",
      "Simulation #  0\n",
      "(20, 3)\n",
      "Simulation #  0\n",
      "(20, 5)\n",
      "Simulation #  0\n",
      "(20, 10)\n",
      "Simulation #  0\n",
      "(50, 2)\n",
      "Simulation #  0\n",
      "(50, 3)\n",
      "Simulation #  0\n",
      "(50, 5)\n",
      "Simulation #  0\n",
      "(50, 10)\n",
      "Simulation #  0\n",
      "(50, 20)\n",
      "Simulation #  0\n",
      "(100, 2)\n",
      "Simulation #  0\n",
      "(100, 3)\n",
      "Simulation #  0\n",
      "(100, 5)\n",
      "Simulation #  0\n",
      "(100, 10)\n",
      "Simulation #  0\n",
      "(100, 20)\n",
      "Simulation #  0\n",
      "(200, 2)\n",
      "Simulation #  0\n",
      "(200, 3)\n",
      "Simulation #  0\n",
      "(200, 5)\n",
      "Simulation #  0\n",
      "(200, 10)\n",
      "Simulation #  0\n",
      "(200, 20)\n",
      "Simulation #  0\n"
     ]
    }
   ],
   "source": [
    "num_voters = [10, 20, 50, 100, 200]\n",
    "num_candidates = [2,3,5,10,20]\n",
    "num_simulations = 20\n",
    "\n",
    "plurality_results = []\n",
    "RCR_results = []\n",
    "\n",
    "same_result = []\n",
    "\n",
    "for n in num_voters:\n",
    "    for m in num_candidates:\n",
    "        if m >= n:\n",
    "            continue\n",
    "\n",
    "        print((n,m))\n",
    "\n",
    "        max_iter_p = 0\n",
    "        sum_iter_p = 0\n",
    "\n",
    "        max_iter_rcr = 0\n",
    "        sum_iter_rcr = 0\n",
    "\n",
    "        same = 0\n",
    "        for i in range(num_simulations):\n",
    "            if i%100 == 0:\n",
    "                print(\"Simulation # \", i)\n",
    "\n",
    "            \n",
    "            L = []\n",
    "            for voter in range(n):\n",
    "                preference_profile = [*range(n)]\n",
    "                random.shuffle(preference_profile)\n",
    "                L.append(preference_profile)\n",
    "            \n",
    "            initial_state = [random.randint(0,m-1) for preference_profile in L]\n",
    "\n",
    "            _, _, tc_p, num_iter_p = iterative_plurality(L, m, from_truth=False, initial_state=initial_state)\n",
    "            _, _, tc_rcr, num_iter_rcr = RCR_iterative_plurality(L, m, from_truth=False, initial_state=initial_state)\n",
    "\n",
    "            if tc_p == tc_rcr:\n",
    "                same += 1\n",
    "\n",
    "\n",
    "            sum_iter_p += num_iter_p\n",
    "            sum_iter_rcr += num_iter_rcr\n",
    "\n",
    "            if num_iter_p > max_iter_p:\n",
    "                max_iter_p = num_iter_p\n",
    "\n",
    "            if num_iter_rcr > max_iter_rcr:\n",
    "                max_iter_rcr = num_iter_rcr\n",
    "        \n",
    "        plurality_results.append((n, m, sum_iter_p/num_simulations, max_iter_p))\n",
    "        RCR_results.append((n, m, sum_iter_rcr/num_simulations, max_iter_rcr))\n",
    "\n",
    "        same_result.append((n, m, same/num_simulations))\n",
    "\n"
   ]
  },
  {
   "cell_type": "code",
   "execution_count": 3,
   "metadata": {},
   "outputs": [
    {
     "data": {
      "text/plain": [
       "[(10, 2, 7.5, 30),\n",
       " (10, 3, 16.5, 40),\n",
       " (10, 5, 19.0, 50),\n",
       " (20, 2, 20.0, 100),\n",
       " (20, 3, 28.0, 120),\n",
       " (20, 5, 39.0, 100),\n",
       " (20, 10, 47.0, 100),\n",
       " (50, 2, 67.5, 350),\n",
       " (50, 3, 40.0, 250),\n",
       " (50, 5, 162.5, 450),\n",
       " (50, 10, 185.0, 500),\n",
       " (50, 20, 155.0, 350),\n",
       " (100, 2, 50.0, 500),\n",
       " (100, 3, 225.0, 1400),\n",
       " (100, 5, 365.0, 1400),\n",
       " (100, 10, 315.0, 1200),\n",
       " (100, 20, 470.0, 1500),\n",
       " (200, 2, 120.0, 2400),\n",
       " (200, 3, 470.0, 2400),\n",
       " (200, 5, 850.0, 3400),\n",
       " (200, 10, 400.0, 1200),\n",
       " (200, 20, 1200.0, 4400)]"
      ]
     },
     "execution_count": 3,
     "metadata": {},
     "output_type": "execute_result"
    }
   ],
   "source": [
    "plurality_results"
   ]
  },
  {
   "cell_type": "code",
   "execution_count": 4,
   "metadata": {},
   "outputs": [
    {
     "data": {
      "text/plain": [
       "[(10, 2, 10.0, 10),\n",
       " (10, 3, 10.0, 10),\n",
       " (10, 5, 10.0, 10),\n",
       " (20, 2, 20.0, 20),\n",
       " (20, 3, 20.0, 20),\n",
       " (20, 5, 20.0, 20),\n",
       " (20, 10, 20.0, 20),\n",
       " (50, 2, 50.0, 50),\n",
       " (50, 3, 50.0, 50),\n",
       " (50, 5, 50.0, 50),\n",
       " (50, 10, 50.0, 50),\n",
       " (50, 20, 50.0, 50),\n",
       " (100, 2, 100.0, 100),\n",
       " (100, 3, 100.0, 100),\n",
       " (100, 5, 100.0, 100),\n",
       " (100, 10, 100.0, 100),\n",
       " (100, 20, 100.0, 100),\n",
       " (200, 2, 200.0, 200),\n",
       " (200, 3, 200.0, 200),\n",
       " (200, 5, 200.0, 200),\n",
       " (200, 10, 200.0, 200),\n",
       " (200, 20, 200.0, 200)]"
      ]
     },
     "execution_count": 4,
     "metadata": {},
     "output_type": "execute_result"
    }
   ],
   "source": [
    "RCR_results"
   ]
  },
  {
   "cell_type": "code",
   "execution_count": 5,
   "metadata": {},
   "outputs": [
    {
     "data": {
      "text/plain": [
       "[(10, 2, 1.0),\n",
       " (10, 3, 1.0),\n",
       " (10, 5, 1.0),\n",
       " (20, 2, 1.0),\n",
       " (20, 3, 1.0),\n",
       " (20, 5, 1.0),\n",
       " (20, 10, 1.0),\n",
       " (50, 2, 1.0),\n",
       " (50, 3, 1.0),\n",
       " (50, 5, 1.0),\n",
       " (50, 10, 1.0),\n",
       " (50, 20, 1.0),\n",
       " (100, 2, 1.0),\n",
       " (100, 3, 1.0),\n",
       " (100, 5, 1.0),\n",
       " (100, 10, 1.0),\n",
       " (100, 20, 1.0),\n",
       " (200, 2, 1.0),\n",
       " (200, 3, 1.0),\n",
       " (200, 5, 1.0),\n",
       " (200, 10, 1.0),\n",
       " (200, 20, 1.0)]"
      ]
     },
     "execution_count": 5,
     "metadata": {},
     "output_type": "execute_result"
    }
   ],
   "source": [
    "same_result"
   ]
  },
  {
   "cell_type": "code",
   "execution_count": null,
   "metadata": {},
   "outputs": [],
   "source": []
  }
 ],
 "metadata": {
  "kernelspec": {
   "display_name": "Python 3.10.8 ('GT')",
   "language": "python",
   "name": "python3"
  },
  "language_info": {
   "codemirror_mode": {
    "name": "ipython",
    "version": 3
   },
   "file_extension": ".py",
   "mimetype": "text/x-python",
   "name": "python",
   "nbconvert_exporter": "python",
   "pygments_lexer": "ipython3",
   "version": "3.10.8"
  },
  "orig_nbformat": 4,
  "vscode": {
   "interpreter": {
    "hash": "2e423354a16b7f523d0bedeb8424a09533944e2c23623d83a59a9f96397970d2"
   }
  }
 },
 "nbformat": 4,
 "nbformat_minor": 2
}
